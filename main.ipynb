{
 "cells": [
  {
   "cell_type": "code",
   "execution_count": 1,
   "id": "5b2b6256-4a48-480b-9f77-a7d3dba0c6da",
   "metadata": {},
   "outputs": [],
   "source": [
    "#PyBank\n",
    "import csv \n",
    "from pathlib import Path"
   ]
  },
  {
   "cell_type": "code",
   "execution_count": 2,
   "id": "6d7736d0-7907-4e55-a987-815bcbade171",
   "metadata": {},
   "outputs": [],
   "source": [
    "budget_data_path = Path('./Resources/budget_data.csv')\n",
    "profits_losses = []\n",
    "line_num = 0\n",
    "\n",
    "with open(budget_data_path, 'r') as csvfile:\n",
    "    csvreader = csv.reader(csvfile, delimiter=',')\n",
    "    header = next(csvreader)\n",
    "    line_num += 1\n",
    "\n",
    "    for row in csvreader:\n",
    "        profit_loss = int(row[1])\n",
    "        profits_losses.append(profit_loss)"
   ]
  },
  {
   "cell_type": "code",
   "execution_count": 3,
   "id": "693acf0e-075d-40cd-b369-8425bd752da8",
   "metadata": {},
   "outputs": [],
   "source": [
    "total_months = 0\n",
    "total = 0\n",
    "avg_change = 0\n",
    "greatest_increase = 0\n",
    "greatest_decrease = 0"
   ]
  },
  {
   "cell_type": "code",
   "execution_count": 4,
   "id": "3d7804e3-c54e-4506-9208-036dc15a1438",
   "metadata": {},
   "outputs": [],
   "source": [
    "for profit_loss in profits_losses:\n",
    "    total_months += 1\n",
    "    total += profit_loss\n",
    "\n",
    "    if greatest_decrease == 0:\n",
    "        greatest_decrease = profit_loss\n",
    "    elif profit_loss > greatest_increase:\n",
    "        greatest_increase = profit_loss\n",
    "    elif profit_loss < greatest_decrease:\n",
    "        greatest_decrease = profit_loss"
   ]
  },
  {
   "cell_type": "code",
   "execution_count": 5,
   "id": "0a42170a-9cd6-4254-8289-c4ab245c4b92",
   "metadata": {},
   "outputs": [],
   "source": [
    "avg_change = round(total / total_months, 2)"
   ]
  },
  {
   "cell_type": "code",
   "execution_count": 6,
   "id": "0d25180d-843f-4011-ac57-a2e806293adc",
   "metadata": {},
   "outputs": [],
   "source": [
    "header = [\n",
    "    \"Total Months\",\n",
    "    \"Total\",\n",
    "    \"Average Change\",\n",
    "    \"Greatest Increase in Profits\",\n",
    "    \"Greatest Decrease in Profits\",\n",
    "]"
   ]
  },
  {
   "cell_type": "code",
   "execution_count": 7,
   "id": "fb20bfd9-0704-49e2-93d8-c0cd0946b093",
   "metadata": {},
   "outputs": [],
   "source": [
    "metrics = [\n",
    "    total_months,\n",
    "    total,\n",
    "    avg_change,\n",
    "    greatest_increase,\n",
    "    greatest_decrease,\n",
    "]\n"
   ]
  },
  {
   "cell_type": "code",
   "execution_count": 8,
   "id": "45c7dcba-86a3-47ba-8eb5-1992161911e2",
   "metadata": {},
   "outputs": [],
   "source": [
    "output_path = Path('./financial_analysis.csv')\n",
    "\n",
    "with open(output_path, 'w') as csvfile:\n",
    "    csvwriter = csv.writer(csvfile, delimiter=',')\n",
    "    csvwriter.writerow(header)\n",
    "    csvwriter.writerow(metrics)"
   ]
  },
  {
   "cell_type": "code",
   "execution_count": 9,
   "id": "24610d6c-582a-46e6-8cfd-257445d0aa57",
   "metadata": {},
   "outputs": [
    {
     "name": "stdout",
     "output_type": "stream",
     "text": [
      "Financial Analysis\n",
      "----------------------------\n",
      "Total Months: 86\n",
      "Total: 38382578\n",
      "Average  Change: 446309.05\n",
      "Greatest Increase in Profits: 1170593\n",
      "Greatest Decrease in Profits: -1196225\n"
     ]
    }
   ],
   "source": [
    "print(\"Financial Analysis\")\n",
    "print(\"----------------------------\")\n",
    "print(f\"Total Months: {total_months}\")\n",
    "print(f\"Total: {total}\")\n",
    "print(f\"Average  Change: {avg_change}\")\n",
    "print(f\"Greatest Increase in Profits: {greatest_increase}\")\n",
    "print(f\"Greatest Decrease in Profits: {greatest_decrease}\")"
   ]
  },
  {
   "cell_type": "code",
   "execution_count": null,
   "id": "6707d485-e734-44e4-adcf-daf2e85ab3bd",
   "metadata": {},
   "outputs": [],
   "source": []
  }
 ],
 "metadata": {
  "kernelspec": {
   "display_name": "Python 3 (ipykernel)",
   "language": "python",
   "name": "python3"
  },
  "language_info": {
   "codemirror_mode": {
    "name": "ipython",
    "version": 3
   },
   "file_extension": ".py",
   "mimetype": "text/x-python",
   "name": "python",
   "nbconvert_exporter": "python",
   "pygments_lexer": "ipython3",
   "version": "3.9.13"
  }
 },
 "nbformat": 4,
 "nbformat_minor": 5
}
